{
 "cells": [
  {
   "cell_type": "markdown",
   "id": "aa292c82",
   "metadata": {},
   "source": [
    "Peclet number"
   ]
  },
  {
   "cell_type": "code",
   "execution_count": 19,
   "id": "8e121cea",
   "metadata": {},
   "outputs": [],
   "source": [
    "import numpy as np"
   ]
  },
  {
   "cell_type": "code",
   "execution_count": 29,
   "id": "420d4c05",
   "metadata": {},
   "outputs": [],
   "source": [
    "eta = 10\n",
    "xi = 0.02\n",
    "r = 0.03712509\n",
    "\n",
    "v = 0.1\n",
    "boxl = 11\n",
    "gamma_dot = v / boxl\n",
    "\n",
    "U = 1e-6"
   ]
  },
  {
   "cell_type": "code",
   "execution_count": 30,
   "id": "7e033971",
   "metadata": {},
   "outputs": [],
   "source": [
    "Pe = 12 * np.pi * eta * xi * r**3 * gamma_dot / U"
   ]
  },
  {
   "cell_type": "code",
   "execution_count": 31,
   "id": "5f06b52e",
   "metadata": {},
   "outputs": [
    {
     "data": {
      "text/plain": [
       "3.5072843287769486"
      ]
     },
     "execution_count": 31,
     "metadata": {},
     "output_type": "execute_result"
    }
   ],
   "source": [
    "Pe"
   ]
  },
  {
   "cell_type": "code",
   "execution_count": null,
   "id": "5db3a4d5",
   "metadata": {},
   "outputs": [],
   "source": []
  }
 ],
 "metadata": {
  "kernelspec": {
   "display_name": "Python 3 (ipykernel)",
   "language": "python",
   "name": "python3"
  },
  "language_info": {
   "codemirror_mode": {
    "name": "ipython",
    "version": 3
   },
   "file_extension": ".py",
   "mimetype": "text/x-python",
   "name": "python",
   "nbconvert_exporter": "python",
   "pygments_lexer": "ipython3",
   "version": "3.9.13"
  }
 },
 "nbformat": 4,
 "nbformat_minor": 5
}
